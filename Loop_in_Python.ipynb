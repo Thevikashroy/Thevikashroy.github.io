{
  "nbformat": 4,
  "nbformat_minor": 0,
  "metadata": {
    "colab": {
      "provenance": [],
      "authorship_tag": "ABX9TyMVIPmEbqK5mCv6WtESFu2Y",
      "include_colab_link": true
    },
    "kernelspec": {
      "name": "python3",
      "display_name": "Python 3"
    },
    "language_info": {
      "name": "python"
    }
  },
  "cells": [
    {
      "cell_type": "markdown",
      "metadata": {
        "id": "view-in-github",
        "colab_type": "text"
      },
      "source": [
        "<a href=\"https://colab.research.google.com/github/Thevikashroy/Thevikashroy.github.io/blob/main/Loop_in_Python.ipynb\" target=\"_parent\"><img src=\"https://colab.research.google.com/assets/colab-badge.svg\" alt=\"Open In Colab\"/></a>"
      ]
    },
    {
      "cell_type": "code",
      "execution_count": 1,
      "metadata": {
        "colab": {
          "base_uri": "https://localhost:8080/"
        },
        "id": "d7iIJwyeAQvB",
        "outputId": "fe640580-5af3-4da5-ae0c-7ae7a3dca511"
      },
      "outputs": [
        {
          "output_type": "stream",
          "name": "stdout",
          "text": [
            "V\n",
            "i\n",
            "k\n",
            "a\n",
            "s\n",
            "h\n"
          ]
        }
      ],
      "source": [
        "str1 = \"Vikash\"\n",
        "for i in str1:\n",
        "  print(i)"
      ]
    },
    {
      "cell_type": "code",
      "source": [
        "for i in str1:\n",
        "  print(i.upper())"
      ],
      "metadata": {
        "colab": {
          "base_uri": "https://localhost:8080/"
        },
        "id": "3MCgDHlsC79X",
        "outputId": "1f96ccd6-4f1d-4f32-a32b-e2811f4a08f4"
      },
      "execution_count": 2,
      "outputs": [
        {
          "output_type": "stream",
          "name": "stdout",
          "text": [
            "V\n",
            "I\n",
            "K\n",
            "A\n",
            "S\n",
            "H\n"
          ]
        }
      ]
    },
    {
      "cell_type": "markdown",
      "source": [
        "**Given a print all the even number in the list**"
      ],
      "metadata": {
        "id": "0VIRx6fbBKdz"
      }
    },
    {
      "cell_type": "code",
      "source": [
        "list1 = [1,2,3,4,57,5,6,56,8,7]\n",
        "list1.sort()\n",
        "for num in list1:\n",
        "  if num % 2 == 0:\n",
        "    print (num)"
      ],
      "metadata": {
        "colab": {
          "base_uri": "https://localhost:8080/"
        },
        "id": "80vSnL-aBIRE",
        "outputId": "09dc3215-9050-4110-c0cc-d557b8339538"
      },
      "execution_count": 10,
      "outputs": [
        {
          "output_type": "stream",
          "name": "stdout",
          "text": [
            "2\n",
            "4\n",
            "6\n",
            "8\n",
            "56\n"
          ]
        }
      ]
    },
    {
      "cell_type": "code",
      "source": [
        "list1 = [1,2,3,4,57,5,6,8,7,56]\n",
        "list2 = []\n",
        "for num in list1:\n",
        "  if num % 2 == 0:\n",
        "    list2.append(num)\n",
        "\n",
        "print (list2)"
      ],
      "metadata": {
        "colab": {
          "base_uri": "https://localhost:8080/"
        },
        "id": "uoigbUxBCuV4",
        "outputId": "3f74f16e-e9ef-4b76-b2a1-b5f1823ca51e"
      },
      "execution_count": 13,
      "outputs": [
        {
          "output_type": "stream",
          "name": "stdout",
          "text": [
            "[2, 4, 6, 8, 56]\n"
          ]
        }
      ]
    },
    {
      "cell_type": "markdown",
      "source": [
        "**Summation of all values available in the given list**"
      ],
      "metadata": {
        "id": "k3EFfHuvJTJf"
      }
    },
    {
      "cell_type": "code",
      "source": [
        "list1 = [1,2,3,4,57,5,6,8,7,56]\n",
        "sum = 0\n",
        "for num in list1:\n",
        "  sum = sum+num\n",
        "\n",
        "print(sum)"
      ],
      "metadata": {
        "colab": {
          "base_uri": "https://localhost:8080/"
        },
        "id": "Ta6JbAFcJhOV",
        "outputId": "6dbfcf9a-de03-42f8-987c-6b8ce2fdd09d"
      },
      "execution_count": 19,
      "outputs": [
        {
          "output_type": "stream",
          "name": "stdout",
          "text": [
            "149\n"
          ]
        }
      ]
    },
    {
      "cell_type": "markdown",
      "source": [
        "**for -else usecase in loops in Python**"
      ],
      "metadata": {
        "id": "F6rdNdsCKiuA"
      }
    },
    {
      "cell_type": "code",
      "source": [
        "str2 = \"vikash\"\n",
        "for i in str2:\n",
        "  print(i)\n",
        "else:\n",
        "  print(\"Loop executed successfully!\")"
      ],
      "metadata": {
        "colab": {
          "base_uri": "https://localhost:8080/"
        },
        "id": "-_kqqACHKs0Q",
        "outputId": "a42af860-3424-4c9e-a1ec-13559046db3a"
      },
      "execution_count": 21,
      "outputs": [
        {
          "output_type": "stream",
          "name": "stdout",
          "text": [
            "v\n",
            "i\n",
            "k\n",
            "a\n",
            "s\n",
            "h\n",
            "Loop executed successfully!\n"
          ]
        }
      ]
    },
    {
      "cell_type": "markdown",
      "source": [
        "**Break statement**"
      ],
      "metadata": {
        "id": "Iw6zetwTLlJz"
      }
    },
    {
      "cell_type": "code",
      "source": [
        "list1 = [1,2,3,4,57,5,6,8,7,56]\n",
        "for i in list1:\n",
        "  print(i)\n",
        "  if i == 6:\n",
        "    break\n",
        "  else:\n",
        "    print(\"loop executed successfully!\")"
      ],
      "metadata": {
        "colab": {
          "base_uri": "https://localhost:8080/"
        },
        "id": "aZEeqqaELjyy",
        "outputId": "481d9d41-cf7d-4b74-fc19-02d4c0928a89"
      },
      "execution_count": 24,
      "outputs": [
        {
          "output_type": "stream",
          "name": "stdout",
          "text": [
            "1\n",
            "loop executed successfully!\n",
            "2\n",
            "loop executed successfully!\n",
            "3\n",
            "loop executed successfully!\n",
            "4\n",
            "loop executed successfully!\n",
            "57\n",
            "loop executed successfully!\n",
            "5\n",
            "loop executed successfully!\n",
            "6\n"
          ]
        }
      ]
    },
    {
      "cell_type": "markdown",
      "source": [
        "**find the factorial number**"
      ],
      "metadata": {
        "id": "etOiRHDnFMOi"
      }
    },
    {
      "cell_type": "code",
      "source": [
        "num = int(input(\"Enter the number: \"))\n",
        "factorial = 1\n",
        "while num > 0:\n",
        "  factorial = factorial * num\n",
        "  num -= 1\n",
        "print(factorial)"
      ],
      "metadata": {
        "colab": {
          "base_uri": "https://localhost:8080/"
        },
        "id": "JE7efunJEm8u",
        "outputId": "6b75f6c2-4227-477b-8ca0-06d1c624c295"
      },
      "execution_count": 16,
      "outputs": [
        {
          "output_type": "stream",
          "name": "stdout",
          "text": [
            "Enter the number: 6\n",
            "720\n"
          ]
        }
      ]
    },
    {
      "cell_type": "markdown",
      "source": [
        "**Reverse a list**\n",
        "\n",
        " list2 = [2,4,5,6,7] Output = [7,6,5,4,2]"
      ],
      "metadata": {
        "id": "IBRb3qrYOSoA"
      }
    },
    {
      "cell_type": "markdown",
      "source": [
        "**Two Pointer Technique **"
      ],
      "metadata": {
        "id": "j73_rK42OxwX"
      }
    },
    {
      "cell_type": "code",
      "source": [
        "list2 = [2,5,8,12,17]\n",
        "low = 0\n",
        "high = len(list2)-1\n",
        "while low < high:\n",
        "  ## swap list2[low] whith the list2[high]\n",
        "  list2[low], list2[high] = list2[high], list2[low]\n",
        "  ## increment the loow pointer and decrement the high pionter\n",
        "  low += 1\n",
        "  high -= 1\n",
        "print(list2)"
      ],
      "metadata": {
        "colab": {
          "base_uri": "https://localhost:8080/"
        },
        "id": "9Rk6fVfKOj-_",
        "outputId": "8fb31e2e-ab4f-45e6-b717-875798e53fa4"
      },
      "execution_count": 25,
      "outputs": [
        {
          "output_type": "stream",
          "name": "stdout",
          "text": [
            "[17, 12, 8, 5, 2]\n"
          ]
        }
      ]
    }
  ]
}